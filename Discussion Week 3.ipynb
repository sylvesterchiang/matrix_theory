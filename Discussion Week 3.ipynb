{
 "cells": [
  {
   "cell_type": "code",
   "execution_count": 8,
   "id": "eedf7c7d",
   "metadata": {},
   "outputs": [],
   "source": [
    "import time\n",
    "import scipy\n",
    "import numpy as np\n",
    "from scipy.sparse import csr_matrix"
   ]
  },
  {
   "cell_type": "code",
   "execution_count": 25,
   "id": "bb3322f0",
   "metadata": {},
   "outputs": [
    {
     "name": "stdout",
     "output_type": "stream",
     "text": [
      "runtime\n",
      "0.07899999991059303\n",
      "memory requirement\n",
      "1\n"
     ]
    }
   ],
   "source": [
    "#timing the sparse matrix class\n",
    "\n",
    "start = time.monotonic()\n",
    "sparse_matrix = np.random.rand(1000, 1000)\n",
    "sparse_matrix = sparse_matrix < 0.1\n",
    "end = time.monotonic()\n",
    "\n",
    "print(\"runtime\")\n",
    "print(end - start)\n",
    "print(\"memory requirement\")\n",
    "print(sparse_matrix.itemsize)"
   ]
  },
  {
   "cell_type": "code",
   "execution_count": 18,
   "id": "14ec0714",
   "metadata": {},
   "outputs": [
    {
     "data": {
      "text/plain": [
       "10000"
      ]
     },
     "execution_count": 18,
     "metadata": {},
     "output_type": "execute_result"
    }
   ],
   "source": [
    "# I coudn't really implement the function that build a sparse matrix as part of the library, so I just randomized a\n",
    "# matrix and thresholded it. This would take a bit longer than just generating a randomized matrix. "
   ]
  },
  {
   "cell_type": "code",
   "execution_count": 26,
   "id": "d6b604d1",
   "metadata": {},
   "outputs": [
    {
     "name": "stdout",
     "output_type": "stream",
     "text": [
      "runtime\n",
      "0.125\n"
     ]
    }
   ],
   "source": [
    "import scipy.linalg as la\n",
    "\n",
    "start = time.monotonic()\n",
    "(P, L, U) = la.lu(sparse_matrix)\n",
    "end = time.monotonic()\n",
    "\n",
    "print(\"runtime\")\n",
    "print(end - start)"
   ]
  },
  {
   "cell_type": "code",
   "execution_count": 27,
   "id": "261dae4a",
   "metadata": {},
   "outputs": [
    {
     "name": "stdout",
     "output_type": "stream",
     "text": [
      "runtime\n",
      "0.0779999999795109\n"
     ]
    }
   ],
   "source": [
    "regular_matrix = np.random.rand(1000, 1000)\n",
    "\n",
    "start = time.monotonic()\n",
    "(P, L, U) = la.lu(regular_matrix)\n",
    "end = time.monotonic()\n",
    "\n",
    "print(\"runtime\")\n",
    "print(end - start)"
   ]
  },
  {
   "cell_type": "code",
   "execution_count": null,
   "id": "95c46923",
   "metadata": {},
   "outputs": [],
   "source": []
  },
  {
   "cell_type": "code",
   "execution_count": null,
   "id": "846c10ad",
   "metadata": {},
   "outputs": [],
   "source": []
  }
 ],
 "metadata": {
  "kernelspec": {
   "display_name": "Python 3 (ipykernel)",
   "language": "python",
   "name": "python3"
  },
  "language_info": {
   "codemirror_mode": {
    "name": "ipython",
    "version": 3
   },
   "file_extension": ".py",
   "mimetype": "text/x-python",
   "name": "python",
   "nbconvert_exporter": "python",
   "pygments_lexer": "ipython3",
   "version": "3.9.6"
  }
 },
 "nbformat": 4,
 "nbformat_minor": 5
}
